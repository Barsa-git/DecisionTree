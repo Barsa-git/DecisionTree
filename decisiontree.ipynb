{
  "nbformat": 4,
  "nbformat_minor": 0,
  "metadata": {
    "colab": {
      "provenance": []
    },
    "kernelspec": {
      "name": "python3",
      "display_name": "Python 3"
    },
    "language_info": {
      "name": "python"
    }
  },
  "cells": [
    {
      "cell_type": "markdown",
      "source": [
        "#DECISION TREE"
      ],
      "metadata": {
        "id": "Q5f8YyDYQ4BH"
      }
    },
    {
      "cell_type": "markdown",
      "source": [
        "#Theoretical Questions : -"
      ],
      "metadata": {
        "id": "xznki7I6Q8q-"
      }
    },
    {
      "cell_type": "markdown",
      "source": [
        "1.What is a Decision Tree, and how does it work?\n",
        "- A decision tree is a flowchart-like diagram used to map out potential solutions to a problem and make decisions based on a set of rules.\n",
        "- It works by breaking down a complex problem into smaller, more manageable sub-problems, each represented by a node in the tree.\n",
        "- The tree starts with a root node and branches out based on different conditions or features, ultimately leading to leaf nodes that represent the final decisions or predictions.\n",
        "- How Decision Trees Work :\n",
        "  - Training Data :\n",
        "    Decision trees are trained using a dataset containing known outcomes and related variables, which is referred to as training data.\n",
        "  - Building the Tree :\n",
        "    The algorithm identifies the most important features and creates splits (nodes) based on those features to create the tree.\n",
        "  - Splitting Nodes :\n",
        "    Internal nodes represent attribute tests, and branches represent attribute values.\n",
        "  - Leaf Nodes :\n",
        "    Leaf nodes represent the final decisions or predictions.\n",
        "  - Decision Making :\n",
        "    When a new input is presented, the algorithm traverses the tree based on the input's features, following the branches until a leaf node is reached, providing the final decision.\n",
        "- In essence, a decision tree is a structured way to visualize and understand the decision-making process, making it a powerful tool for both classification and regression tasks in machine learning.     "
      ],
      "metadata": {
        "id": "uCRv6sWqRH93"
      }
    },
    {
      "cell_type": "markdown",
      "source": [
        "2.What are impurity measures in Decision Trees?\n",
        "- Impurity measures in decision trees quantify the homogeneity of classes within a node. They are used to determine the best split for a node by evaluating the reduction in impurity after splitting. Two common impurity measures are Gini impurity and entropy.\n",
        "- Gini Impurity :\n",
        "  - Definition :\n",
        "    Gini impurity measures the probability of incorrectly classifying a randomly chosen element in a node.\n",
        "  - Range :\n",
        "    It ranges from 0 to 0.5. A value of 0 indicates a pure node (all instances belong to the same class), while 0.5 signifies maximum impurity.\n",
        "  - Calculation :\n",
        "    It's calculated as 1 - the sum of the probabilities of each class squared.\n",
        "  - In Decision Trees :\n",
        "    Gini impurity helps select features that result in more homogeneous subsets, leading to better predictive models.\n",
        "- Entropy :\n",
        "  - Definition : Entropy measures the randomness or disorder in a dataset.\n",
        "  - Range : It ranges from 0 to 1. 0 represents a pure node, and 1 represents maximum impurity (equal distribution of classes).\n",
        "  - Calculation : It's calculated as - the sum of the probabilities of each class multiplied by the base-2 logarithm of the class probability.\n",
        "  - In Decision Trees : A smaller entropy value indicates a better split.\n",
        "- Other Impurity Measures :\n",
        "  - Misclassification Error : This measures the proportion of incorrect predictions at a node.\n",
        "  - Information Gain : This measures the reduction in entropy (or increase in purity) after splitting a dataset.   "
      ],
      "metadata": {
        "id": "ilMC8X8nTToy"
      }
    },
    {
      "cell_type": "markdown",
      "source": [
        "3.What is the mathematical formula for Gini Impurity?\n",
        "- The Gini Impurity formula measures the probability of misclassifying a randomly chosen element if the element is labeled using the class labels in a node. It is calculated by summing the squared probabilities of each class in a node and subtracting the result from 1. In essence, it quantifies the level of homogeneity or purity within a set of data points.\n",
        "- Mathematical Formula of Gini Impurity :\n",
        "  - Gini = 1 - Σ (pi^2)\n",
        "  - where : -\n",
        "    - Gini is the Gini Impurity\n",
        "    - pi is the proportion of the i-th class in the node\n",
        "    - Σ is the summation over all classes in the node\n",
        "- Example :\n",
        "  - If a node has 60% of class A and 40% of class B, the Gini Impurity would be : -\n",
        "    - Gini = 1 - (0.6^2 + 0.4^2)\n",
        "    - Gini = 1 - (0.36 + 0.16)\n",
        "    - Gini = 1 - 0.52\n",
        "    - Gini = 0.48    "
      ],
      "metadata": {
        "id": "lJUiTtl2yM1u"
      }
    },
    {
      "cell_type": "markdown",
      "source": [
        "4.What is the mathematical formula for Entropy?\n",
        "- In machine learning, entropy is a mathematical concept used to quantify uncertainty or randomness in a dataset. The formula for calculating entropy is : -\n",
        "  - H(X) = - Σ [p(x) * log2(p(x))]\n",
        "- where : -\n",
        "  - H(X) : represents the entropy of the random variable X.\n",
        "  - p(x) : is the probability of event x.\n",
        "  - Σ : denotes the sum over all possible values of x.\n",
        "  - log2 : represents the logarithm base 2.\n",
        "- In simpler terms, entropy measures how \"mixed up\" or \"random\" the data is. Higher entropy means higher uncertainty, while lower entropy means less uncertainty.   "
      ],
      "metadata": {
        "id": "Tjzo4aOjz8Rc"
      }
    },
    {
      "cell_type": "markdown",
      "source": [
        "5.What is Information Gain, and how is it used in Decision Trees?\n",
        "- Information Gain (IG) is a metric used in decision tree algorithms to determine the best attribute for splitting a dataset. It measures the reduction in entropy (uncertainty) of a target variable when a specific feature is known. In essence, it quantifies how much a feature helps in classifying the data.\n",
        "- Here's how Information Gain is used in decision trees :\n",
        "  - Calculating Entropy :\n",
        "    Entropy measures the impurity or randomness of a dataset. A dataset with high entropy has a more mixed distribution of classes, while a dataset with low entropy is more homogeneous.\n",
        "  - Calculating Information Gain :\n",
        "    Information Gain is calculated by subtracting the weighted average entropy of the child nodes (after a split) from the entropy of the parent node (before the split). A larger Information Gain indicates a more effective split, meaning the chosen feature helps reduce uncertainty in the target variable more significantly.\n",
        "  - Choosing the Best Attribute :\n",
        "    During the decision tree building process, the algorithm calculates the Information Gain for each feature at each node. The feature with the highest Information Gain is selected as the splitting attribute for that node, explains Wikipedia.\n",
        "  - Building the Tree :\n",
        "    This process of calculating and selecting the best splitting attribute is repeated recursively for each node until a stopping criterion is met (e.g., all data points in a node belong to the same class or a maximum tree depth is reached)."
      ],
      "metadata": {
        "id": "R1JxI7fZ067M"
      }
    },
    {
      "cell_type": "markdown",
      "source": [
        "6.What is the difference between Gini Impurity and Entropy?\n",
        "- Gini impurity and entropy are both measures of impurity used in decision tree algorithms to determine the best split for a node. Gini impurity is a measure of how often a randomly chosen element from a set would be incorrectly classified, while entropy is a measure of the randomness or disorder in a set.\n",
        "- Here's a more detailed comparison :\n",
        "  - Meaning : -\n",
        "    - Gini Impurity :\n",
        "      Represents the probability of misclassifying a randomly selected element if it were classified based on the current class distribution in a node. A lower Gini impurity indicates a more homogeneous node, meaning the classes are more clearly separated.\n",
        "    - Entropy :\n",
        "      Measures the randomness or uncertainty in a set of data. A higher entropy indicates more randomness, meaning the classes are more evenly distributed.\n",
        "  - Formula : -\n",
        "    - Gini Impurity :\n",
        "      Gini = 1 - Σ (pᵢ)² , where pᵢ is the probability of an element belonging to class i.\n",
        "    - Entropy :\n",
        "      Entropy = - Σ (pᵢ * log₂ pᵢ), where pᵢ is the probability of an element belonging to class i.  \n",
        "  - Ranges : -\n",
        "    - Gini Impurity : Ranges from 0 to 0.5.\n",
        "    - Entropy : Ranges from 0 to log₂(number of classes).\n",
        "  - Computational Cost : -\n",
        "    - Gini Impurity : Computationally cheaper than entropy because it involves simple arithmetic, while entropy uses logarithms.\n",
        "    - Entropy : More computationally expensive due to the logarithm calculation.\n",
        "  - Performance : -\n",
        "    - Gini Impurity : Generally performs similarly to entropy in most cases.\n",
        "    - Entropy : May lead to slightly more balanced decision trees in some cases, but the difference is often negligible.      \n",
        "  - Interpretation : -\n",
        "    - Gini Impurity :\n",
        "     Some find Gini impurity easier to interpret intuitively because it directly relates to the probability of misclassification.\n",
        "    - Entropy :\n",
        "     Entropy is more closely related to the concept of information gain, which measures the reduction in uncertainty after a split.   \n",
        "- In summary : Gini impurity and entropy are both valid measures of impurity used in decision trees. Gini impurity is generally faster to compute and may be slightly easier to interpret, while entropy may lead to slightly more balanced trees in some cases. The choice between them often comes down to a matter of computational efficiency and individual preference."
      ],
      "metadata": {
        "id": "3zaCtnUQIcJa"
      }
    },
    {
      "cell_type": "markdown",
      "source": [
        "7.What is the mathematical explanation behind Decision Trees?\n",
        "- Decision trees, at their core, employ mathematical concepts to guide the splitting of data and determine which features are most important for making predictions. Key mathematical ideas include information gain, entropy, and Gini impurity, used to measure the purity and helpfulness of data splits.\n",
        "- Information Gain :\n",
        "  - Measures the reduction in entropy after splitting a dataset based on a particular feature. It quantifies how much a feature helps in separating different classes.\n",
        "  - Formula : IG(T, a) = Entropy(T) - Weighted Sum of Entropy(T | a), where T is a node, a is a feature, and the weighted sum considers the proportions of data in each child node after splitting.\n",
        "- Entropy :\n",
        "  - Represents the randomness or impurity of a dataset. A high entropy value indicates a dataset with mixed classes, while a low entropy value indicates a dataset where one class dominates.   \n",
        "- Gini Impurity :\n",
        "  - Another measure of impurity, similar to entropy, but often computationally faster to calculate.\n",
        "  - Formula : Gini = 1 - Σ (probability of each class)^2. A lower Gini value indicates a more pure node (e.g., a node with mostly one class).  "
      ],
      "metadata": {
        "id": "PiQekRqBKz0K"
      }
    },
    {
      "cell_type": "markdown",
      "source": [
        "8.What is Pre-Pruning in Decision Trees?\n",
        "- Pre-pruning in decision trees, also known as early stopping, is a technique used to prevent overfitting by limiting the growth of the decision tree before it reaches its maximum potential complexity.\n",
        "- It works by setting criteria for halting the tree-building process during the construction phase."
      ],
      "metadata": {
        "id": "n0YtswgDMhp7"
      }
    },
    {
      "cell_type": "markdown",
      "source": [
        "9.What is Post-Pruning in Decision Trees?\n",
        "- Post-pruning in decision trees involves growing the tree to its full depth and then removing branches that don't contribute significantly to accuracy.\n",
        "- This technique is also known as cost-complexity pruning and is a form of regularization that helps prevent overfitting."
      ],
      "metadata": {
        "id": "x44ePhXhM1_F"
      }
    },
    {
      "cell_type": "markdown",
      "source": [
        "10.What is the difference between Pre-Pruning and Post-Pruning?\n",
        "- Pre-pruning and post-pruning are two techniques used to control the complexity of decision trees in machine learning.\n",
        "- Pre-pruning, also known as early stopping, limits the growth of the tree during its construction, preventing it from becoming overly complex.\n",
        "- Pre-Pruning (Early Stopping) : -\n",
        "  - Timing : Stops the tree's growth before it reaches its full potential.\n",
        "  - How it works : Uses predetermined criteria (e.g., maximum depth, minimum number of samples per leaf) to halt the expansion of branches.\n",
        "  - Effect : Can prevent overfitting by limiting the tree's complexity, but might also lead to underfitting if the constraints are too strict.  \n",
        "- Post-pruning, on the other hand, simplifies a fully grown tree by removing branches that don't significantly contribute to model performance.\n",
        "- Post-Pruning (Reducing Nodes) : -\n",
        "  - Timing : Applies after the tree has been fully constructed.\n",
        "  - How it works : Removes branches that don't significantly improve prediction accuracy, based on a cost-complexity parameter or other pruning criteria.\n",
        "  - Effect : Can improve generalization by simplifying the tree while preserving its accuracy, but might require more computational resources for pruning the tree.\n",
        "- In essence : Pre-pruning focuses on preventing the tree from becoming too complex during growth, while post-pruning focuses on simplifying an already complex tree.   "
      ],
      "metadata": {
        "id": "IDyAwuIMNFF9"
      }
    },
    {
      "cell_type": "markdown",
      "source": [
        "11.What is a Decision Tree Regressor?\n",
        "- Decision tree regression is a supervised machine learning technique used to predict continuous numerical values.\n",
        "- It works by constructing a tree-like model where each node represents a decision based on input features, and the terminal nodes (leaves) represent the predicted numerical value.\n",
        "- Unlike classification tasks, where the output is categorical, decision tree regression focuses on estimating continuous outcomes."
      ],
      "metadata": {
        "id": "2il-ymmPOSCv"
      }
    },
    {
      "cell_type": "markdown",
      "source": [
        "12.What are the advantages and disadvantages of Decision Trees?\n",
        "- Decision trees, a versatile machine learning algorithm, offer benefits like interpretability, adaptability to various data types, and the ability to handle missing values. However, they also have drawbacks, including potential overfitting, instability, and difficulties with complex, non-linear relationships.\n",
        "- Advantages : -\n",
        " - Interpretability : Decision trees are easy to understand and visualize, making them suitable for scenarios where transparency and human understanding are crucial.\n",
        " - Versatility : They can be used for both classification and regression tasks, and they don't require extensive data preparation or scaling.\n",
        " - Handles Non-Linear Relationships : Decision trees can effectively model complex, non-linear patterns in the data.\n",
        " - Robust to Outliers : They are relatively insensitive to outliers in the dataset.\n",
        " - Can Handle Missing Values : Decision trees can be trained and used even with missing data points.\n",
        "- Disadvantages : -\n",
        " - Overfitting : Decision trees can learn the training data too well, leading to poor generalization on new, unseen data.\n",
        " - Instability : Small changes in the training data can lead to significant variations in the tree structure and predictions.\n",
        " - Bias towards Dominant Classes : In imbalanced datasets, decision trees may favor the majority class, leading to poor performance on minority classes.\n",
        " - Difficulty with Complex, Non-Linear Relationships : While they excel at non-linear relationships, decision trees can struggle with complex, smooth, or continuous patterns.\n",
        " - Requires Enough Data : Decision trees require a sufficient amount of data to learn effective splits and make accurate predictions.\n",
        " - Computational Complexity : Building and using decision trees can be computationally expensive, especially on large datasets.\n",
        " - Not Suitable for High-Dimensional Data : Decision trees may not be the best choice for datasets with a large number of features or variables.  "
      ],
      "metadata": {
        "id": "3fJQP94uOgff"
      }
    },
    {
      "cell_type": "markdown",
      "source": [
        "13.How does a Decision Tree handle missing values?\n",
        "- Decision trees can handle missing values in several ways, including ignoring them, imputing them with a replacement value like the mean or mode, or using surrogate splits to find alternative splits based on other features.\n",
        "- They can also treat missing values as a separate category or use probabilistic approaches."
      ],
      "metadata": {
        "id": "EIsUPEMaQDxb"
      }
    },
    {
      "cell_type": "markdown",
      "source": [
        "14.How does a Decision Tree handle categorical features?\n",
        "- Decision trees inherently handle categorical features by splitting data based on the categories within those features.\n",
        "- Unlike continuous features where splits are based on thresholds, decision trees directly compare data points to specific categories during the splitting process."
      ],
      "metadata": {
        "id": "qAKKtp2vQSOq"
      }
    },
    {
      "cell_type": "markdown",
      "source": [
        "15.What are some real-world applications of Decision Trees?\n",
        "- Decision trees find applications in diverse fields like finance, healthcare, marketing, and more, helping with tasks like loan approval, medical diagnosis, customer segmentation, and fraud detection. They're particularly useful for predicting outcomes and understanding the factors that influence those outcomes.\n",
        "- Specific Real-World Applications : -\n",
        " - Finance :\n",
        "   - Decision trees can be used for credit scoring, risk assessment, and fraud detection.\n",
        "   - For example, a bank might use a decision tree to determine loan eligibility based on applicant data like income, credit history, and employment status.\n",
        " - Healthcare :\n",
        "   - Decision trees can assist in medical diagnosis by analyzing patient symptoms and test results to suggest potential diagnoses.\n",
        "   - They can also help predict patient outcomes based on medical history and treatment plans.\n",
        " - Marketing :\n",
        "   - Decision trees are used for customer segmentation, targeting advertising, and predicting customer churn.\n",
        "   - Businesses can use decision trees to identify customers who are likely to leave and then implement targeted retention strategies.\n",
        " - Business and Operations :\n",
        "   - Decision trees can be used to make strategic decisions about investments, capacity planning, and supply chain management.\n",
        "   - For example, a company might use a decision tree to evaluate whether to open a new branch or expand existing operations.\n",
        " - Other Applications :\n",
        "   - Decision trees can also be used in manufacturing quality control, crime risk prediction, and even to predict high occupancy dates for hotels.\n",
        "   - They can also be used to understand complex systems like molecular biology.    "
      ],
      "metadata": {
        "id": "vDZA4Y08QjD0"
      }
    },
    {
      "cell_type": "markdown",
      "source": [
        "#Practical Questions : -"
      ],
      "metadata": {
        "id": "66L1zCgcRpiL"
      }
    },
    {
      "cell_type": "markdown",
      "source": [
        "16.Write a Python program to train a Decision Tree Classifier on the Iris dataset and print the model accuracy."
      ],
      "metadata": {
        "id": "6tNN7Z6lRyzE"
      }
    },
    {
      "cell_type": "code",
      "source": [
        "# Load the Iris dataset\n",
        "from sklearn.datasets import load_iris\n",
        "iris = load_iris()\n",
        "X, y = iris.data, iris.target\n",
        "\n",
        "# Split the data into training and testing sets\n",
        "from sklearn.model_selection import train_test_split\n",
        "X_train, X_test, y_train, y_test = train_test_split(X, y, test_size=0.3, random_state=42)\n",
        "\n",
        "# Create and train a Decision Tree Classifier\n",
        "from sklearn.tree import DecisionTreeClassifier\n",
        "clf = DecisionTreeClassifier(random_state=42)\n",
        "clf.fit(X_train, y_train)\n",
        "\n",
        "# Make predictions on the test set\n",
        "y_pred = clf.predict(X_test)\n",
        "\n",
        "# Calculate and print the accuracy\n",
        "from sklearn.metrics import accuracy_score\n",
        "accuracy = accuracy_score(y_test, y_pred)\n",
        "print(f\"Model Accuracy: {accuracy:.2f}\")"
      ],
      "metadata": {
        "colab": {
          "base_uri": "https://localhost:8080/"
        },
        "id": "2MRVnywHS_9V",
        "outputId": "8428eafd-6a36-4ea2-f76c-f37c51d98032"
      },
      "execution_count": 2,
      "outputs": [
        {
          "output_type": "stream",
          "name": "stdout",
          "text": [
            "Model Accuracy: 1.00\n"
          ]
        }
      ]
    },
    {
      "cell_type": "markdown",
      "source": [
        "17.Write a Python program to train a Decision Tree Classifier using Gini Impurity as the criterion and print the feature importances."
      ],
      "metadata": {
        "id": "nTHGUBaSTQjV"
      }
    },
    {
      "cell_type": "code",
      "source": [
        "# Create and train a Decision Tree Classifier using Gini Impurity\n",
        "clf_gini = DecisionTreeClassifier(criterion='gini', random_state=42)\n",
        "clf_gini.fit(X_train, y_train)\n",
        "\n",
        "# Print the feature importances\n",
        "print(\"Feature Importances (Gini):\")\n",
        "for feature, importance in zip(iris.feature_names, clf_gini.feature_importances_):\n",
        "    print(f\"{feature}: {importance:.4f}\")"
      ],
      "metadata": {
        "colab": {
          "base_uri": "https://localhost:8080/"
        },
        "id": "u7ylCoWITiXm",
        "outputId": "7d8978da-db8a-449a-ce27-65c845040314"
      },
      "execution_count": 3,
      "outputs": [
        {
          "output_type": "stream",
          "name": "stdout",
          "text": [
            "Feature Importances (Gini):\n",
            "sepal length (cm): 0.0000\n",
            "sepal width (cm): 0.0191\n",
            "petal length (cm): 0.8933\n",
            "petal width (cm): 0.0876\n"
          ]
        }
      ]
    },
    {
      "cell_type": "markdown",
      "source": [
        "18.Write a Python program to train a Decision Tree Classifier using Entropy as the splitting criterion and print the model accuracy."
      ],
      "metadata": {
        "id": "hScYGUG_Tlfo"
      }
    },
    {
      "cell_type": "code",
      "source": [
        "# Create and train a Decision Tree Classifier using Entropy\n",
        "clf_entropy = DecisionTreeClassifier(criterion='entropy', random_state=42)\n",
        "clf_entropy.fit(X_train, y_train)\n",
        "\n",
        "# Make predictions on the test set\n",
        "y_pred_entropy = clf_entropy.predict(X_test)\n",
        "\n",
        "# Calculate and print the accuracy\n",
        "accuracy_entropy = accuracy_score(y_test, y_pred_entropy)\n",
        "print(f\"Model Accuracy (Entropy): {accuracy_entropy:.2f}\")"
      ],
      "metadata": {
        "colab": {
          "base_uri": "https://localhost:8080/"
        },
        "id": "eElWjVkeT0gE",
        "outputId": "a3174c73-c602-4138-c9d7-8b3b59a66e32"
      },
      "execution_count": 4,
      "outputs": [
        {
          "output_type": "stream",
          "name": "stdout",
          "text": [
            "Model Accuracy (Entropy): 0.98\n"
          ]
        }
      ]
    },
    {
      "cell_type": "markdown",
      "source": [
        "19.Write a Python program to train a Decision Tree Regressor on a housing dataset and evaluate using Mean Squared Error (MSE)."
      ],
      "metadata": {
        "id": "n8QI9gjqT3Ko"
      }
    },
    {
      "cell_type": "code",
      "source": [
        "!pip install scikit-learn\n",
        "from sklearn.datasets import fetch_california_housing\n",
        "from sklearn.tree import DecisionTreeRegressor\n",
        "from sklearn.metrics import mean_squared_error\n",
        "\n",
        "# Load the California Housing dataset\n",
        "housing = fetch_california_housing()\n",
        "X, y = housing.data, housing.target\n",
        "\n",
        "# Split the data into training and testing sets\n",
        "X_train, X_test, y_train, y_test = train_test_split(X, y, test_size=0.3, random_state=42)\n",
        "\n",
        "# Create and train a Decision Tree Regressor\n",
        "regressor = DecisionTreeRegressor(random_state=42)\n",
        "regressor.fit(X_train, y_train)\n",
        "\n",
        "# Make predictions on the test set\n",
        "y_pred_regressor = regressor.predict(X_test)\n",
        "\n",
        "# Calculate and print the Mean Squared Error\n",
        "mse = mean_squared_error(y_test, y_pred_regressor)\n",
        "print(f\"Mean Squared Error (MSE): {mse:.2f}\")"
      ],
      "metadata": {
        "colab": {
          "base_uri": "https://localhost:8080/"
        },
        "id": "0Daz5Zd_UKhB",
        "outputId": "af16c1a3-984f-495c-bd15-5eb63cb92f25"
      },
      "execution_count": 5,
      "outputs": [
        {
          "output_type": "stream",
          "name": "stdout",
          "text": [
            "Requirement already satisfied: scikit-learn in /usr/local/lib/python3.11/dist-packages (1.6.1)\n",
            "Requirement already satisfied: numpy>=1.19.5 in /usr/local/lib/python3.11/dist-packages (from scikit-learn) (2.0.2)\n",
            "Requirement already satisfied: scipy>=1.6.0 in /usr/local/lib/python3.11/dist-packages (from scikit-learn) (1.15.3)\n",
            "Requirement already satisfied: joblib>=1.2.0 in /usr/local/lib/python3.11/dist-packages (from scikit-learn) (1.5.0)\n",
            "Requirement already satisfied: threadpoolctl>=3.1.0 in /usr/local/lib/python3.11/dist-packages (from scikit-learn) (3.6.0)\n",
            "Mean Squared Error (MSE): 0.53\n"
          ]
        }
      ]
    },
    {
      "cell_type": "markdown",
      "source": [
        "20.Write a Python program to train a Decision Tree Classifier and visualize the tree using graphviz."
      ],
      "metadata": {
        "id": "3_MSGQIgUPgN"
      }
    },
    {
      "cell_type": "code",
      "source": [
        "!pip install graphviz\n",
        "\n",
        "from sklearn.tree import export_graphviz\n",
        "import graphviz\n",
        "\n",
        "# Assume clf is the trained Decision Tree Classifier from a previous step (e.g., question 16)\n",
        "# Export the tree to a DOT file\n",
        "dot_data = export_graphviz(clf, out_file=None,\n",
        "                           feature_names=iris.feature_names,\n",
        "                           class_names=iris.target_names,\n",
        "                           filled=True, rounded=True,\n",
        "                           special_characters=True)\n",
        "\n",
        "# Visualize the tree\n",
        "graph = graphviz.Source(dot_data)\n",
        "display(graph)"
      ],
      "metadata": {
        "colab": {
          "base_uri": "https://localhost:8080/",
          "height": 1000
        },
        "id": "rYCoODgyUme5",
        "outputId": "1c65c2fd-fafe-4baf-945f-7aab95d6404c"
      },
      "execution_count": 6,
      "outputs": [
        {
          "output_type": "stream",
          "name": "stdout",
          "text": [
            "Requirement already satisfied: graphviz in /usr/local/lib/python3.11/dist-packages (0.20.3)\n"
          ]
        },
        {
          "output_type": "display_data",
          "data": {
            "image/svg+xml": "<?xml version=\"1.0\" encoding=\"UTF-8\" standalone=\"no\"?>\n<!DOCTYPE svg PUBLIC \"-//W3C//DTD SVG 1.1//EN\"\n \"http://www.w3.org/Graphics/SVG/1.1/DTD/svg11.dtd\">\n<!-- Generated by graphviz version 2.43.0 (0)\n -->\n<!-- Title: Tree Pages: 1 -->\n<svg width=\"749pt\" height=\"790pt\"\n viewBox=\"0.00 0.00 749.00 790.00\" xmlns=\"http://www.w3.org/2000/svg\" xmlns:xlink=\"http://www.w3.org/1999/xlink\">\n<g id=\"graph0\" class=\"graph\" transform=\"scale(1 1) rotate(0) translate(4 786)\">\n<title>Tree</title>\n<polygon fill=\"white\" stroke=\"transparent\" points=\"-4,4 -4,-786 745,-786 745,4 -4,4\"/>\n<!-- 0 -->\n<g id=\"node1\" class=\"node\">\n<title>0</title>\n<path fill=\"#ffffff\" stroke=\"black\" d=\"M265,-782C265,-782 130,-782 130,-782 124,-782 118,-776 118,-770 118,-770 118,-711 118,-711 118,-705 124,-699 130,-699 130,-699 265,-699 265,-699 271,-699 277,-705 277,-711 277,-711 277,-770 277,-770 277,-776 271,-782 265,-782\"/>\n<text text-anchor=\"start\" x=\"126\" y=\"-766.8\" font-family=\"Helvetica,sans-Serif\" font-size=\"14.00\">petal length (cm) ≤ 2.45</text>\n<text text-anchor=\"start\" x=\"162\" y=\"-751.8\" font-family=\"Helvetica,sans-Serif\" font-size=\"14.00\">gini = 0.664</text>\n<text text-anchor=\"start\" x=\"152.5\" y=\"-736.8\" font-family=\"Helvetica,sans-Serif\" font-size=\"14.00\">samples = 105</text>\n<text text-anchor=\"start\" x=\"139.5\" y=\"-721.8\" font-family=\"Helvetica,sans-Serif\" font-size=\"14.00\">value = [31, 37, 37]</text>\n<text text-anchor=\"start\" x=\"145\" y=\"-706.8\" font-family=\"Helvetica,sans-Serif\" font-size=\"14.00\">class = versicolor</text>\n</g>\n<!-- 1 -->\n<g id=\"node2\" class=\"node\">\n<title>1</title>\n<path fill=\"#e58139\" stroke=\"black\" d=\"M166,-655.5C166,-655.5 73,-655.5 73,-655.5 67,-655.5 61,-649.5 61,-643.5 61,-643.5 61,-599.5 61,-599.5 61,-593.5 67,-587.5 73,-587.5 73,-587.5 166,-587.5 166,-587.5 172,-587.5 178,-593.5 178,-599.5 178,-599.5 178,-643.5 178,-643.5 178,-649.5 172,-655.5 166,-655.5\"/>\n<text text-anchor=\"start\" x=\"91.5\" y=\"-640.3\" font-family=\"Helvetica,sans-Serif\" font-size=\"14.00\">gini = 0.0</text>\n<text text-anchor=\"start\" x=\"78.5\" y=\"-625.3\" font-family=\"Helvetica,sans-Serif\" font-size=\"14.00\">samples = 31</text>\n<text text-anchor=\"start\" x=\"69\" y=\"-610.3\" font-family=\"Helvetica,sans-Serif\" font-size=\"14.00\">value = [31, 0, 0]</text>\n<text text-anchor=\"start\" x=\"76\" y=\"-595.3\" font-family=\"Helvetica,sans-Serif\" font-size=\"14.00\">class = setosa</text>\n</g>\n<!-- 0&#45;&gt;1 -->\n<g id=\"edge1\" class=\"edge\">\n<title>0&#45;&gt;1</title>\n<path fill=\"none\" stroke=\"black\" d=\"M170.44,-698.91C162.93,-687.65 154.78,-675.42 147.24,-664.11\"/>\n<polygon fill=\"black\" stroke=\"black\" points=\"150.07,-662.05 141.61,-655.67 144.25,-665.93 150.07,-662.05\"/>\n<text text-anchor=\"middle\" x=\"136.71\" y=\"-676.48\" font-family=\"Helvetica,sans-Serif\" font-size=\"14.00\">True</text>\n</g>\n<!-- 2 -->\n<g id=\"node3\" class=\"node\">\n<title>2</title>\n<path fill=\"#ffffff\" stroke=\"black\" d=\"M343,-663C343,-663 208,-663 208,-663 202,-663 196,-657 196,-651 196,-651 196,-592 196,-592 196,-586 202,-580 208,-580 208,-580 343,-580 343,-580 349,-580 355,-586 355,-592 355,-592 355,-651 355,-651 355,-657 349,-663 343,-663\"/>\n<text text-anchor=\"start\" x=\"204\" y=\"-647.8\" font-family=\"Helvetica,sans-Serif\" font-size=\"14.00\">petal length (cm) ≤ 4.75</text>\n<text text-anchor=\"start\" x=\"247.5\" y=\"-632.8\" font-family=\"Helvetica,sans-Serif\" font-size=\"14.00\">gini = 0.5</text>\n<text text-anchor=\"start\" x=\"234.5\" y=\"-617.8\" font-family=\"Helvetica,sans-Serif\" font-size=\"14.00\">samples = 74</text>\n<text text-anchor=\"start\" x=\"221\" y=\"-602.8\" font-family=\"Helvetica,sans-Serif\" font-size=\"14.00\">value = [0, 37, 37]</text>\n<text text-anchor=\"start\" x=\"223\" y=\"-587.8\" font-family=\"Helvetica,sans-Serif\" font-size=\"14.00\">class = versicolor</text>\n</g>\n<!-- 0&#45;&gt;2 -->\n<g id=\"edge2\" class=\"edge\">\n<title>0&#45;&gt;2</title>\n<path fill=\"none\" stroke=\"black\" d=\"M224.56,-698.91C230.43,-690.1 236.7,-680.7 242.76,-671.61\"/>\n<polygon fill=\"black\" stroke=\"black\" points=\"245.85,-673.28 248.49,-663.02 240.03,-669.4 245.85,-673.28\"/>\n<text text-anchor=\"middle\" x=\"253.39\" y=\"-683.84\" font-family=\"Helvetica,sans-Serif\" font-size=\"14.00\">False</text>\n</g>\n<!-- 3 -->\n<g id=\"node4\" class=\"node\">\n<title>3</title>\n<path fill=\"#3fe685\" stroke=\"black\" d=\"M252.5,-544C252.5,-544 130.5,-544 130.5,-544 124.5,-544 118.5,-538 118.5,-532 118.5,-532 118.5,-473 118.5,-473 118.5,-467 124.5,-461 130.5,-461 130.5,-461 252.5,-461 252.5,-461 258.5,-461 264.5,-467 264.5,-473 264.5,-473 264.5,-532 264.5,-532 264.5,-538 258.5,-544 252.5,-544\"/>\n<text text-anchor=\"start\" x=\"126.5\" y=\"-528.8\" font-family=\"Helvetica,sans-Serif\" font-size=\"14.00\">petal width (cm) ≤ 1.6</text>\n<text text-anchor=\"start\" x=\"156\" y=\"-513.8\" font-family=\"Helvetica,sans-Serif\" font-size=\"14.00\">gini = 0.059</text>\n<text text-anchor=\"start\" x=\"150.5\" y=\"-498.8\" font-family=\"Helvetica,sans-Serif\" font-size=\"14.00\">samples = 33</text>\n<text text-anchor=\"start\" x=\"141\" y=\"-483.8\" font-family=\"Helvetica,sans-Serif\" font-size=\"14.00\">value = [0, 32, 1]</text>\n<text text-anchor=\"start\" x=\"139\" y=\"-468.8\" font-family=\"Helvetica,sans-Serif\" font-size=\"14.00\">class = versicolor</text>\n</g>\n<!-- 2&#45;&gt;3 -->\n<g id=\"edge3\" class=\"edge\">\n<title>2&#45;&gt;3</title>\n<path fill=\"none\" stroke=\"black\" d=\"M246.36,-579.91C239.97,-571.01 233.15,-561.51 226.56,-552.33\"/>\n<polygon fill=\"black\" stroke=\"black\" points=\"229.27,-550.1 220.59,-544.02 223.58,-554.19 229.27,-550.1\"/>\n</g>\n<!-- 6 -->\n<g id=\"node7\" class=\"node\">\n<title>6</title>\n<path fill=\"#9254e9\" stroke=\"black\" d=\"M424.5,-544C424.5,-544 294.5,-544 294.5,-544 288.5,-544 282.5,-538 282.5,-532 282.5,-532 282.5,-473 282.5,-473 282.5,-467 288.5,-461 294.5,-461 294.5,-461 424.5,-461 424.5,-461 430.5,-461 436.5,-467 436.5,-473 436.5,-473 436.5,-532 436.5,-532 436.5,-538 430.5,-544 424.5,-544\"/>\n<text text-anchor=\"start\" x=\"290.5\" y=\"-528.8\" font-family=\"Helvetica,sans-Serif\" font-size=\"14.00\">petal width (cm) ≤ 1.75</text>\n<text text-anchor=\"start\" x=\"324\" y=\"-513.8\" font-family=\"Helvetica,sans-Serif\" font-size=\"14.00\">gini = 0.214</text>\n<text text-anchor=\"start\" x=\"318.5\" y=\"-498.8\" font-family=\"Helvetica,sans-Serif\" font-size=\"14.00\">samples = 41</text>\n<text text-anchor=\"start\" x=\"309\" y=\"-483.8\" font-family=\"Helvetica,sans-Serif\" font-size=\"14.00\">value = [0, 5, 36]</text>\n<text text-anchor=\"start\" x=\"311\" y=\"-468.8\" font-family=\"Helvetica,sans-Serif\" font-size=\"14.00\">class = virginica</text>\n</g>\n<!-- 2&#45;&gt;6 -->\n<g id=\"edge6\" class=\"edge\">\n<title>2&#45;&gt;6</title>\n<path fill=\"none\" stroke=\"black\" d=\"M304.64,-579.91C311.03,-571.01 317.85,-561.51 324.44,-552.33\"/>\n<polygon fill=\"black\" stroke=\"black\" points=\"327.42,-554.19 330.41,-544.02 321.73,-550.1 327.42,-554.19\"/>\n</g>\n<!-- 4 -->\n<g id=\"node5\" class=\"node\">\n<title>4</title>\n<path fill=\"#39e581\" stroke=\"black\" d=\"M109,-417.5C109,-417.5 12,-417.5 12,-417.5 6,-417.5 0,-411.5 0,-405.5 0,-405.5 0,-361.5 0,-361.5 0,-355.5 6,-349.5 12,-349.5 12,-349.5 109,-349.5 109,-349.5 115,-349.5 121,-355.5 121,-361.5 121,-361.5 121,-405.5 121,-405.5 121,-411.5 115,-417.5 109,-417.5\"/>\n<text text-anchor=\"start\" x=\"32.5\" y=\"-402.3\" font-family=\"Helvetica,sans-Serif\" font-size=\"14.00\">gini = 0.0</text>\n<text text-anchor=\"start\" x=\"19.5\" y=\"-387.3\" font-family=\"Helvetica,sans-Serif\" font-size=\"14.00\">samples = 32</text>\n<text text-anchor=\"start\" x=\"10\" y=\"-372.3\" font-family=\"Helvetica,sans-Serif\" font-size=\"14.00\">value = [0, 32, 0]</text>\n<text text-anchor=\"start\" x=\"8\" y=\"-357.3\" font-family=\"Helvetica,sans-Serif\" font-size=\"14.00\">class = versicolor</text>\n</g>\n<!-- 3&#45;&gt;4 -->\n<g id=\"edge4\" class=\"edge\">\n<title>3&#45;&gt;4</title>\n<path fill=\"none\" stroke=\"black\" d=\"M146.05,-460.91C132.83,-449.1 118.4,-436.22 105.23,-424.45\"/>\n<polygon fill=\"black\" stroke=\"black\" points=\"107.43,-421.72 97.64,-417.67 102.76,-426.94 107.43,-421.72\"/>\n</g>\n<!-- 5 -->\n<g id=\"node6\" class=\"node\">\n<title>5</title>\n<path fill=\"#8139e5\" stroke=\"black\" d=\"M240,-417.5C240,-417.5 151,-417.5 151,-417.5 145,-417.5 139,-411.5 139,-405.5 139,-405.5 139,-361.5 139,-361.5 139,-355.5 145,-349.5 151,-349.5 151,-349.5 240,-349.5 240,-349.5 246,-349.5 252,-355.5 252,-361.5 252,-361.5 252,-405.5 252,-405.5 252,-411.5 246,-417.5 240,-417.5\"/>\n<text text-anchor=\"start\" x=\"167.5\" y=\"-402.3\" font-family=\"Helvetica,sans-Serif\" font-size=\"14.00\">gini = 0.0</text>\n<text text-anchor=\"start\" x=\"158\" y=\"-387.3\" font-family=\"Helvetica,sans-Serif\" font-size=\"14.00\">samples = 1</text>\n<text text-anchor=\"start\" x=\"148.5\" y=\"-372.3\" font-family=\"Helvetica,sans-Serif\" font-size=\"14.00\">value = [0, 0, 1]</text>\n<text text-anchor=\"start\" x=\"147\" y=\"-357.3\" font-family=\"Helvetica,sans-Serif\" font-size=\"14.00\">class = virginica</text>\n</g>\n<!-- 3&#45;&gt;5 -->\n<g id=\"edge5\" class=\"edge\">\n<title>3&#45;&gt;5</title>\n<path fill=\"none\" stroke=\"black\" d=\"M192.89,-460.91C193.25,-450.2 193.65,-438.62 194.02,-427.78\"/>\n<polygon fill=\"black\" stroke=\"black\" points=\"197.52,-427.78 194.37,-417.67 190.53,-427.54 197.52,-427.78\"/>\n</g>\n<!-- 7 -->\n<g id=\"node8\" class=\"node\">\n<title>7</title>\n<path fill=\"#ffffff\" stroke=\"black\" d=\"M424,-425C424,-425 289,-425 289,-425 283,-425 277,-419 277,-413 277,-413 277,-354 277,-354 277,-348 283,-342 289,-342 289,-342 424,-342 424,-342 430,-342 436,-348 436,-354 436,-354 436,-413 436,-413 436,-419 430,-425 424,-425\"/>\n<text text-anchor=\"start\" x=\"285\" y=\"-409.8\" font-family=\"Helvetica,sans-Serif\" font-size=\"14.00\">petal length (cm) ≤ 4.95</text>\n<text text-anchor=\"start\" x=\"328.5\" y=\"-394.8\" font-family=\"Helvetica,sans-Serif\" font-size=\"14.00\">gini = 0.5</text>\n<text text-anchor=\"start\" x=\"319\" y=\"-379.8\" font-family=\"Helvetica,sans-Serif\" font-size=\"14.00\">samples = 8</text>\n<text text-anchor=\"start\" x=\"309.5\" y=\"-364.8\" font-family=\"Helvetica,sans-Serif\" font-size=\"14.00\">value = [0, 4, 4]</text>\n<text text-anchor=\"start\" x=\"304\" y=\"-349.8\" font-family=\"Helvetica,sans-Serif\" font-size=\"14.00\">class = versicolor</text>\n</g>\n<!-- 6&#45;&gt;7 -->\n<g id=\"edge7\" class=\"edge\">\n<title>6&#45;&gt;7</title>\n<path fill=\"none\" stroke=\"black\" d=\"M358.46,-460.91C358.25,-452.56 358.02,-443.67 357.8,-435.02\"/>\n<polygon fill=\"black\" stroke=\"black\" points=\"361.29,-434.93 357.54,-425.02 354.3,-435.11 361.29,-434.93\"/>\n</g>\n<!-- 14 -->\n<g id=\"node15\" class=\"node\">\n<title>14</title>\n<path fill=\"#853fe6\" stroke=\"black\" d=\"M601,-425C601,-425 466,-425 466,-425 460,-425 454,-419 454,-413 454,-413 454,-354 454,-354 454,-348 460,-342 466,-342 466,-342 601,-342 601,-342 607,-342 613,-348 613,-354 613,-354 613,-413 613,-413 613,-419 607,-425 601,-425\"/>\n<text text-anchor=\"start\" x=\"462\" y=\"-409.8\" font-family=\"Helvetica,sans-Serif\" font-size=\"14.00\">petal length (cm) ≤ 4.85</text>\n<text text-anchor=\"start\" x=\"498\" y=\"-394.8\" font-family=\"Helvetica,sans-Serif\" font-size=\"14.00\">gini = 0.059</text>\n<text text-anchor=\"start\" x=\"492.5\" y=\"-379.8\" font-family=\"Helvetica,sans-Serif\" font-size=\"14.00\">samples = 33</text>\n<text text-anchor=\"start\" x=\"483\" y=\"-364.8\" font-family=\"Helvetica,sans-Serif\" font-size=\"14.00\">value = [0, 1, 32]</text>\n<text text-anchor=\"start\" x=\"485\" y=\"-349.8\" font-family=\"Helvetica,sans-Serif\" font-size=\"14.00\">class = virginica</text>\n</g>\n<!-- 6&#45;&gt;14 -->\n<g id=\"edge14\" class=\"edge\">\n<title>6&#45;&gt;14</title>\n<path fill=\"none\" stroke=\"black\" d=\"M419.87,-460.91C434.31,-451.2 449.83,-440.76 464.63,-430.81\"/>\n<polygon fill=\"black\" stroke=\"black\" points=\"466.89,-433.51 473.24,-425.02 462.99,-427.7 466.89,-433.51\"/>\n</g>\n<!-- 8 -->\n<g id=\"node9\" class=\"node\">\n<title>8</title>\n<path fill=\"#39e581\" stroke=\"black\" d=\"M252,-298.5C252,-298.5 155,-298.5 155,-298.5 149,-298.5 143,-292.5 143,-286.5 143,-286.5 143,-242.5 143,-242.5 143,-236.5 149,-230.5 155,-230.5 155,-230.5 252,-230.5 252,-230.5 258,-230.5 264,-236.5 264,-242.5 264,-242.5 264,-286.5 264,-286.5 264,-292.5 258,-298.5 252,-298.5\"/>\n<text text-anchor=\"start\" x=\"175.5\" y=\"-283.3\" font-family=\"Helvetica,sans-Serif\" font-size=\"14.00\">gini = 0.0</text>\n<text text-anchor=\"start\" x=\"166\" y=\"-268.3\" font-family=\"Helvetica,sans-Serif\" font-size=\"14.00\">samples = 2</text>\n<text text-anchor=\"start\" x=\"156.5\" y=\"-253.3\" font-family=\"Helvetica,sans-Serif\" font-size=\"14.00\">value = [0, 2, 0]</text>\n<text text-anchor=\"start\" x=\"151\" y=\"-238.3\" font-family=\"Helvetica,sans-Serif\" font-size=\"14.00\">class = versicolor</text>\n</g>\n<!-- 7&#45;&gt;8 -->\n<g id=\"edge8\" class=\"edge\">\n<title>7&#45;&gt;8</title>\n<path fill=\"none\" stroke=\"black\" d=\"M303.42,-341.91C287.69,-329.88 270.5,-316.73 254.88,-304.79\"/>\n<polygon fill=\"black\" stroke=\"black\" points=\"256.94,-301.96 246.87,-298.67 252.69,-307.52 256.94,-301.96\"/>\n</g>\n<!-- 9 -->\n<g id=\"node10\" class=\"node\">\n<title>9</title>\n<path fill=\"#c09cf2\" stroke=\"black\" d=\"M424.5,-306C424.5,-306 294.5,-306 294.5,-306 288.5,-306 282.5,-300 282.5,-294 282.5,-294 282.5,-235 282.5,-235 282.5,-229 288.5,-223 294.5,-223 294.5,-223 424.5,-223 424.5,-223 430.5,-223 436.5,-229 436.5,-235 436.5,-235 436.5,-294 436.5,-294 436.5,-300 430.5,-306 424.5,-306\"/>\n<text text-anchor=\"start\" x=\"290.5\" y=\"-290.8\" font-family=\"Helvetica,sans-Serif\" font-size=\"14.00\">petal width (cm) ≤ 1.55</text>\n<text text-anchor=\"start\" x=\"324\" y=\"-275.8\" font-family=\"Helvetica,sans-Serif\" font-size=\"14.00\">gini = 0.444</text>\n<text text-anchor=\"start\" x=\"322\" y=\"-260.8\" font-family=\"Helvetica,sans-Serif\" font-size=\"14.00\">samples = 6</text>\n<text text-anchor=\"start\" x=\"312.5\" y=\"-245.8\" font-family=\"Helvetica,sans-Serif\" font-size=\"14.00\">value = [0, 2, 4]</text>\n<text text-anchor=\"start\" x=\"311\" y=\"-230.8\" font-family=\"Helvetica,sans-Serif\" font-size=\"14.00\">class = virginica</text>\n</g>\n<!-- 7&#45;&gt;9 -->\n<g id=\"edge9\" class=\"edge\">\n<title>7&#45;&gt;9</title>\n<path fill=\"none\" stroke=\"black\" d=\"M357.54,-341.91C357.75,-333.56 357.98,-324.67 358.2,-316.02\"/>\n<polygon fill=\"black\" stroke=\"black\" points=\"361.7,-316.11 358.46,-306.02 354.71,-315.93 361.7,-316.11\"/>\n</g>\n<!-- 10 -->\n<g id=\"node11\" class=\"node\">\n<title>10</title>\n<path fill=\"#8139e5\" stroke=\"black\" d=\"M254,-179.5C254,-179.5 165,-179.5 165,-179.5 159,-179.5 153,-173.5 153,-167.5 153,-167.5 153,-123.5 153,-123.5 153,-117.5 159,-111.5 165,-111.5 165,-111.5 254,-111.5 254,-111.5 260,-111.5 266,-117.5 266,-123.5 266,-123.5 266,-167.5 266,-167.5 266,-173.5 260,-179.5 254,-179.5\"/>\n<text text-anchor=\"start\" x=\"181.5\" y=\"-164.3\" font-family=\"Helvetica,sans-Serif\" font-size=\"14.00\">gini = 0.0</text>\n<text text-anchor=\"start\" x=\"172\" y=\"-149.3\" font-family=\"Helvetica,sans-Serif\" font-size=\"14.00\">samples = 3</text>\n<text text-anchor=\"start\" x=\"162.5\" y=\"-134.3\" font-family=\"Helvetica,sans-Serif\" font-size=\"14.00\">value = [0, 0, 3]</text>\n<text text-anchor=\"start\" x=\"161\" y=\"-119.3\" font-family=\"Helvetica,sans-Serif\" font-size=\"14.00\">class = virginica</text>\n</g>\n<!-- 9&#45;&gt;10 -->\n<g id=\"edge10\" class=\"edge\">\n<title>9&#45;&gt;10</title>\n<path fill=\"none\" stroke=\"black\" d=\"M307.46,-222.91C292.18,-210.99 275.49,-197.98 260.29,-186.12\"/>\n<polygon fill=\"black\" stroke=\"black\" points=\"262.06,-183.06 252.02,-179.67 257.75,-188.58 262.06,-183.06\"/>\n</g>\n<!-- 11 -->\n<g id=\"node12\" class=\"node\">\n<title>11</title>\n<path fill=\"#9cf2c0\" stroke=\"black\" d=\"M431,-187C431,-187 296,-187 296,-187 290,-187 284,-181 284,-175 284,-175 284,-116 284,-116 284,-110 290,-104 296,-104 296,-104 431,-104 431,-104 437,-104 443,-110 443,-116 443,-116 443,-175 443,-175 443,-181 437,-187 431,-187\"/>\n<text text-anchor=\"start\" x=\"292\" y=\"-171.8\" font-family=\"Helvetica,sans-Serif\" font-size=\"14.00\">petal length (cm) ≤ 5.45</text>\n<text text-anchor=\"start\" x=\"328\" y=\"-156.8\" font-family=\"Helvetica,sans-Serif\" font-size=\"14.00\">gini = 0.444</text>\n<text text-anchor=\"start\" x=\"326\" y=\"-141.8\" font-family=\"Helvetica,sans-Serif\" font-size=\"14.00\">samples = 3</text>\n<text text-anchor=\"start\" x=\"316.5\" y=\"-126.8\" font-family=\"Helvetica,sans-Serif\" font-size=\"14.00\">value = [0, 2, 1]</text>\n<text text-anchor=\"start\" x=\"311\" y=\"-111.8\" font-family=\"Helvetica,sans-Serif\" font-size=\"14.00\">class = versicolor</text>\n</g>\n<!-- 9&#45;&gt;11 -->\n<g id=\"edge11\" class=\"edge\">\n<title>9&#45;&gt;11</title>\n<path fill=\"none\" stroke=\"black\" d=\"M360.89,-222.91C361.17,-214.56 361.48,-205.67 361.77,-197.02\"/>\n<polygon fill=\"black\" stroke=\"black\" points=\"365.27,-197.13 362.11,-187.02 358.27,-196.9 365.27,-197.13\"/>\n</g>\n<!-- 12 -->\n<g id=\"node13\" class=\"node\">\n<title>12</title>\n<path fill=\"#39e581\" stroke=\"black\" d=\"M345,-68C345,-68 248,-68 248,-68 242,-68 236,-62 236,-56 236,-56 236,-12 236,-12 236,-6 242,0 248,0 248,0 345,0 345,0 351,0 357,-6 357,-12 357,-12 357,-56 357,-56 357,-62 351,-68 345,-68\"/>\n<text text-anchor=\"start\" x=\"268.5\" y=\"-52.8\" font-family=\"Helvetica,sans-Serif\" font-size=\"14.00\">gini = 0.0</text>\n<text text-anchor=\"start\" x=\"259\" y=\"-37.8\" font-family=\"Helvetica,sans-Serif\" font-size=\"14.00\">samples = 2</text>\n<text text-anchor=\"start\" x=\"249.5\" y=\"-22.8\" font-family=\"Helvetica,sans-Serif\" font-size=\"14.00\">value = [0, 2, 0]</text>\n<text text-anchor=\"start\" x=\"244\" y=\"-7.8\" font-family=\"Helvetica,sans-Serif\" font-size=\"14.00\">class = versicolor</text>\n</g>\n<!-- 11&#45;&gt;12 -->\n<g id=\"edge12\" class=\"edge\">\n<title>11&#45;&gt;12</title>\n<path fill=\"none\" stroke=\"black\" d=\"M338.55,-103.73C333.19,-94.97 327.52,-85.7 322.14,-76.91\"/>\n<polygon fill=\"black\" stroke=\"black\" points=\"325.08,-75 316.88,-68.3 319.11,-78.66 325.08,-75\"/>\n</g>\n<!-- 13 -->\n<g id=\"node14\" class=\"node\">\n<title>13</title>\n<path fill=\"#8139e5\" stroke=\"black\" d=\"M476,-68C476,-68 387,-68 387,-68 381,-68 375,-62 375,-56 375,-56 375,-12 375,-12 375,-6 381,0 387,0 387,0 476,0 476,0 482,0 488,-6 488,-12 488,-12 488,-56 488,-56 488,-62 482,-68 476,-68\"/>\n<text text-anchor=\"start\" x=\"403.5\" y=\"-52.8\" font-family=\"Helvetica,sans-Serif\" font-size=\"14.00\">gini = 0.0</text>\n<text text-anchor=\"start\" x=\"394\" y=\"-37.8\" font-family=\"Helvetica,sans-Serif\" font-size=\"14.00\">samples = 1</text>\n<text text-anchor=\"start\" x=\"384.5\" y=\"-22.8\" font-family=\"Helvetica,sans-Serif\" font-size=\"14.00\">value = [0, 0, 1]</text>\n<text text-anchor=\"start\" x=\"383\" y=\"-7.8\" font-family=\"Helvetica,sans-Serif\" font-size=\"14.00\">class = virginica</text>\n</g>\n<!-- 11&#45;&gt;13 -->\n<g id=\"edge13\" class=\"edge\">\n<title>11&#45;&gt;13</title>\n<path fill=\"none\" stroke=\"black\" d=\"M388.82,-103.73C394.26,-94.97 400.01,-85.7 405.48,-76.91\"/>\n<polygon fill=\"black\" stroke=\"black\" points=\"408.52,-78.64 410.82,-68.3 402.57,-74.95 408.52,-78.64\"/>\n</g>\n<!-- 15 -->\n<g id=\"node16\" class=\"node\">\n<title>15</title>\n<path fill=\"#c09cf2\" stroke=\"black\" d=\"M594,-306C594,-306 469,-306 469,-306 463,-306 457,-300 457,-294 457,-294 457,-235 457,-235 457,-229 463,-223 469,-223 469,-223 594,-223 594,-223 600,-223 606,-229 606,-235 606,-235 606,-294 606,-294 606,-300 600,-306 594,-306\"/>\n<text text-anchor=\"start\" x=\"465\" y=\"-290.8\" font-family=\"Helvetica,sans-Serif\" font-size=\"14.00\">sepal width (cm) ≤ 3.1</text>\n<text text-anchor=\"start\" x=\"496\" y=\"-275.8\" font-family=\"Helvetica,sans-Serif\" font-size=\"14.00\">gini = 0.444</text>\n<text text-anchor=\"start\" x=\"494\" y=\"-260.8\" font-family=\"Helvetica,sans-Serif\" font-size=\"14.00\">samples = 3</text>\n<text text-anchor=\"start\" x=\"484.5\" y=\"-245.8\" font-family=\"Helvetica,sans-Serif\" font-size=\"14.00\">value = [0, 1, 2]</text>\n<text text-anchor=\"start\" x=\"483\" y=\"-230.8\" font-family=\"Helvetica,sans-Serif\" font-size=\"14.00\">class = virginica</text>\n</g>\n<!-- 14&#45;&gt;15 -->\n<g id=\"edge15\" class=\"edge\">\n<title>14&#45;&gt;15</title>\n<path fill=\"none\" stroke=\"black\" d=\"M532.81,-341.91C532.66,-333.56 532.51,-324.67 532.36,-316.02\"/>\n<polygon fill=\"black\" stroke=\"black\" points=\"535.86,-315.96 532.19,-306.02 528.86,-316.08 535.86,-315.96\"/>\n</g>\n<!-- 18 -->\n<g id=\"node19\" class=\"node\">\n<title>18</title>\n<path fill=\"#8139e5\" stroke=\"black\" d=\"M729,-298.5C729,-298.5 636,-298.5 636,-298.5 630,-298.5 624,-292.5 624,-286.5 624,-286.5 624,-242.5 624,-242.5 624,-236.5 630,-230.5 636,-230.5 636,-230.5 729,-230.5 729,-230.5 735,-230.5 741,-236.5 741,-242.5 741,-242.5 741,-286.5 741,-286.5 741,-292.5 735,-298.5 729,-298.5\"/>\n<text text-anchor=\"start\" x=\"654.5\" y=\"-283.3\" font-family=\"Helvetica,sans-Serif\" font-size=\"14.00\">gini = 0.0</text>\n<text text-anchor=\"start\" x=\"641.5\" y=\"-268.3\" font-family=\"Helvetica,sans-Serif\" font-size=\"14.00\">samples = 30</text>\n<text text-anchor=\"start\" x=\"632\" y=\"-253.3\" font-family=\"Helvetica,sans-Serif\" font-size=\"14.00\">value = [0, 0, 30]</text>\n<text text-anchor=\"start\" x=\"634\" y=\"-238.3\" font-family=\"Helvetica,sans-Serif\" font-size=\"14.00\">class = virginica</text>\n</g>\n<!-- 14&#45;&gt;18 -->\n<g id=\"edge18\" class=\"edge\">\n<title>14&#45;&gt;18</title>\n<path fill=\"none\" stroke=\"black\" d=\"M585.19,-341.91C600.37,-329.99 616.95,-316.98 632.04,-305.12\"/>\n<polygon fill=\"black\" stroke=\"black\" points=\"634.56,-307.6 640.26,-298.67 630.24,-302.09 634.56,-307.6\"/>\n</g>\n<!-- 16 -->\n<g id=\"node17\" class=\"node\">\n<title>16</title>\n<path fill=\"#8139e5\" stroke=\"black\" d=\"M573,-179.5C573,-179.5 484,-179.5 484,-179.5 478,-179.5 472,-173.5 472,-167.5 472,-167.5 472,-123.5 472,-123.5 472,-117.5 478,-111.5 484,-111.5 484,-111.5 573,-111.5 573,-111.5 579,-111.5 585,-117.5 585,-123.5 585,-123.5 585,-167.5 585,-167.5 585,-173.5 579,-179.5 573,-179.5\"/>\n<text text-anchor=\"start\" x=\"500.5\" y=\"-164.3\" font-family=\"Helvetica,sans-Serif\" font-size=\"14.00\">gini = 0.0</text>\n<text text-anchor=\"start\" x=\"491\" y=\"-149.3\" font-family=\"Helvetica,sans-Serif\" font-size=\"14.00\">samples = 2</text>\n<text text-anchor=\"start\" x=\"481.5\" y=\"-134.3\" font-family=\"Helvetica,sans-Serif\" font-size=\"14.00\">value = [0, 0, 2]</text>\n<text text-anchor=\"start\" x=\"480\" y=\"-119.3\" font-family=\"Helvetica,sans-Serif\" font-size=\"14.00\">class = virginica</text>\n</g>\n<!-- 15&#45;&gt;16 -->\n<g id=\"edge16\" class=\"edge\">\n<title>15&#45;&gt;16</title>\n<path fill=\"none\" stroke=\"black\" d=\"M530.46,-222.91C530.18,-212.2 529.89,-200.62 529.61,-189.78\"/>\n<polygon fill=\"black\" stroke=\"black\" points=\"533.11,-189.57 529.35,-179.67 526.11,-189.75 533.11,-189.57\"/>\n</g>\n<!-- 17 -->\n<g id=\"node18\" class=\"node\">\n<title>17</title>\n<path fill=\"#39e581\" stroke=\"black\" d=\"M712,-179.5C712,-179.5 615,-179.5 615,-179.5 609,-179.5 603,-173.5 603,-167.5 603,-167.5 603,-123.5 603,-123.5 603,-117.5 609,-111.5 615,-111.5 615,-111.5 712,-111.5 712,-111.5 718,-111.5 724,-117.5 724,-123.5 724,-123.5 724,-167.5 724,-167.5 724,-173.5 718,-179.5 712,-179.5\"/>\n<text text-anchor=\"start\" x=\"635.5\" y=\"-164.3\" font-family=\"Helvetica,sans-Serif\" font-size=\"14.00\">gini = 0.0</text>\n<text text-anchor=\"start\" x=\"626\" y=\"-149.3\" font-family=\"Helvetica,sans-Serif\" font-size=\"14.00\">samples = 1</text>\n<text text-anchor=\"start\" x=\"616.5\" y=\"-134.3\" font-family=\"Helvetica,sans-Serif\" font-size=\"14.00\">value = [0, 1, 0]</text>\n<text text-anchor=\"start\" x=\"611\" y=\"-119.3\" font-family=\"Helvetica,sans-Serif\" font-size=\"14.00\">class = versicolor</text>\n</g>\n<!-- 15&#45;&gt;17 -->\n<g id=\"edge17\" class=\"edge\">\n<title>15&#45;&gt;17</title>\n<path fill=\"none\" stroke=\"black\" d=\"M577.3,-222.91C590.62,-211.1 605.15,-198.22 618.43,-186.45\"/>\n<polygon fill=\"black\" stroke=\"black\" points=\"620.92,-188.92 626.08,-179.67 616.28,-183.68 620.92,-188.92\"/>\n</g>\n</g>\n</svg>\n",
            "text/plain": [
              "<graphviz.sources.Source at 0x7da93c4b75d0>"
            ]
          },
          "metadata": {}
        }
      ]
    },
    {
      "cell_type": "markdown",
      "source": [
        "21.Write a Python program to train a Decision Tree Classifier with a maximum depth of 3 and compare its accuracy with a fully grown tree."
      ],
      "metadata": {
        "id": "qtIBrVYVUy93"
      }
    },
    {
      "cell_type": "code",
      "source": [
        "from sklearn.datasets import load_iris\n",
        "from sklearn.model_selection import train_test_split\n",
        "from sklearn.tree import DecisionTreeClassifier\n",
        "from sklearn.metrics import accuracy_score\n",
        "\n",
        "iris = load_iris()\n",
        "X, y = iris.data, iris.target\n",
        "X_train, X_test, y_train, y_test = train_test_split(X, y, test_size=0.3, random_state=42)\n",
        "\n",
        "# Train a Decision Tree Classifier with max_depth=3\n",
        "clf_limited = DecisionTreeClassifier(max_depth=3, random_state=42)\n",
        "# Use the training data from the Iris dataset\n",
        "clf_limited.fit(X_train, y_train)\n",
        "\n",
        "# Make predictions with the limited tree\n",
        "y_pred_limited = clf_limited.predict(X_test)\n",
        "\n",
        "# Calculate accuracy of the limited tree\n",
        "accuracy_limited = accuracy_score(y_test, y_pred_limited)\n",
        "print(f\"Accuracy with max_depth=3: {accuracy_limited:.2f}\")\n",
        "\n",
        "# For demonstration purposes, let's also train the fully grown tree here\n",
        "clf_full = DecisionTreeClassifier(random_state=42)\n",
        "clf_full.fit(X_train, y_train)\n",
        "y_pred_full = clf_full.predict(X_test)\n",
        "\n",
        "# Calculate accuracy of the fully grown tree\n",
        "accuracy_full = accuracy_score(y_test, y_pred_full)\n",
        "print(f\"Accuracy of fully grown tree: {accuracy_full:.2f}\")"
      ],
      "metadata": {
        "colab": {
          "base_uri": "https://localhost:8080/"
        },
        "id": "pOgGmK3aVb3_",
        "outputId": "e22bb3d5-4857-4797-aed5-efa0d26bc4da"
      },
      "execution_count": 7,
      "outputs": [
        {
          "output_type": "stream",
          "name": "stdout",
          "text": [
            "Accuracy with max_depth=3: 1.00\n",
            "Accuracy of fully grown tree: 1.00\n"
          ]
        }
      ]
    },
    {
      "cell_type": "markdown",
      "source": [
        "22.Write a Python program to train a Decision Tree Classifier using min_samples_split=5 and compare its accuracy with a default tree."
      ],
      "metadata": {
        "id": "qy6RhbdLV3b6"
      }
    },
    {
      "cell_type": "code",
      "source": [
        "# Train a Decision Tree Classifier with min_samples_split=5\n",
        "clf_split5 = DecisionTreeClassifier(min_samples_split=5, random_state=42)\n",
        "clf_split5.fit(X_train, y_train)\n",
        "\n",
        "# Make predictions with the tree having min_samples_split=5\n",
        "y_pred_split5 = clf_split5.predict(X_test)\n",
        "\n",
        "# Calculate accuracy\n",
        "accuracy_split5 = accuracy_score(y_test, y_pred_split5)\n",
        "print(f\"Accuracy with min_samples_split=5: {accuracy_split5:.2f}\")\n",
        "\n",
        "# If clf_full from question 21 is not available, train a new default tree\n",
        "clf_default = DecisionTreeClassifier(random_state=42)\n",
        "clf_default.fit(X_train, y_train)\n",
        "y_pred_default = clf_default.predict(X_test)\n",
        "accuracy_default = accuracy_score(y_test, y_pred_default)\n",
        "print(f\"Accuracy of default tree: {accuracy_default:.2f}\")"
      ],
      "metadata": {
        "colab": {
          "base_uri": "https://localhost:8080/"
        },
        "id": "39WhlgEoXRC2",
        "outputId": "fad388a6-969f-448f-d79e-22ae24418b5a"
      },
      "execution_count": 8,
      "outputs": [
        {
          "output_type": "stream",
          "name": "stdout",
          "text": [
            "Accuracy with min_samples_split=5: 1.00\n",
            "Accuracy of default tree: 1.00\n"
          ]
        }
      ]
    },
    {
      "cell_type": "markdown",
      "source": [
        "23.Write a Python program to apply feature scaling before training a Decision Tree Classifier and compare its accuracy with unscaled data."
      ],
      "metadata": {
        "id": "aG18YVKHXWx5"
      }
    },
    {
      "cell_type": "code",
      "source": [
        "from sklearn.preprocessing import StandardScaler\n",
        "\n",
        "# Apply StandardScaler to the training and testing data\n",
        "scaler = StandardScaler()\n",
        "X_train_scaled = scaler.fit_transform(X_train)\n",
        "X_test_scaled = scaler.transform(X_test)\n",
        "\n",
        "# Train a Decision Tree Classifier on scaled data\n",
        "clf_scaled = DecisionTreeClassifier(random_state=42)\n",
        "clf_scaled.fit(X_train_scaled, y_train)\n",
        "\n",
        "# Make predictions on scaled test data\n",
        "y_pred_scaled = clf_scaled.predict(X_test_scaled)\n",
        "\n",
        "# Calculate accuracy of the scaled tree\n",
        "accuracy_scaled = accuracy_score(y_test, y_pred_scaled)\n",
        "print(f\"Accuracy with scaled data: {accuracy_scaled:.2f}\")\n",
        "\n",
        "# Compare with the accuracy of the unscaled tree (clf_default or clf_full)\n",
        "# If clf_default is not available, train a new default tree for comparison\n",
        "clf_unscaled = DecisionTreeClassifier(random_state=42)\n",
        "clf_unscaled.fit(X_train, y_train)\n",
        "y_pred_unscaled = clf_unscaled.predict(X_test)\n",
        "accuracy_unscaled = accuracy_score(y_test, y_pred_unscaled)\n",
        "print(f\"Accuracy with unscaled data: {accuracy_unscaled:.2f}\")"
      ],
      "metadata": {
        "colab": {
          "base_uri": "https://localhost:8080/"
        },
        "id": "mfVI0lXHYBdm",
        "outputId": "7fa5d5e4-1bb1-45a2-ca67-d37a9107e358"
      },
      "execution_count": 9,
      "outputs": [
        {
          "output_type": "stream",
          "name": "stdout",
          "text": [
            "Accuracy with scaled data: 1.00\n",
            "Accuracy with unscaled data: 1.00\n"
          ]
        }
      ]
    },
    {
      "cell_type": "markdown",
      "source": [
        "24.Write a Python program to train a Decision Tree Classifier using One-vs-Rest (OvR) strategy for multiclass classification."
      ],
      "metadata": {
        "id": "T5W_Z-OKYFhc"
      }
    },
    {
      "cell_type": "code",
      "source": [
        "from sklearn.multiclass import OneVsRestClassifier\n",
        "iris = load_iris()\n",
        "X, y = iris.data, iris.target\n",
        "X_train, X_test, y_train, y_test = train_test_split(X, y, test_size=0.3, random_state=42)\n",
        "\n",
        "# Create a base Decision Tree Classifier\n",
        "base_classifier = DecisionTreeClassifier(random_state=42)\n",
        "\n",
        "# Create an OvR classifier using the base Decision Tree\n",
        "ovr_classifier = OneVsRestClassifier(base_classifier)\n",
        "\n",
        "# Train the OvR classifier\n",
        "ovr_classifier.fit(X_train, y_train)\n",
        "\n",
        "# Make predictions on the test set\n",
        "y_pred_ovr = ovr_classifier.predict(X_test)\n",
        "\n",
        "# Calculate and print the accuracy\n",
        "accuracy_ovr = accuracy_score(y_test, y_pred_ovr)\n",
        "print(f\"OvR Decision Tree Classifier Accuracy: {accuracy_ovr:.2f}\")"
      ],
      "metadata": {
        "colab": {
          "base_uri": "https://localhost:8080/"
        },
        "id": "JU9b1P0UYcID",
        "outputId": "3eec6b44-c85b-4b0f-b2e3-fb5659c6114d"
      },
      "execution_count": 10,
      "outputs": [
        {
          "output_type": "stream",
          "name": "stdout",
          "text": [
            "OvR Decision Tree Classifier Accuracy: 1.00\n"
          ]
        }
      ]
    },
    {
      "cell_type": "markdown",
      "source": [
        "25.Write a Python program to train a Decision Tree Classifier and display the feature importance scores."
      ],
      "metadata": {
        "id": "GANJlMyDZCBf"
      }
    },
    {
      "cell_type": "code",
      "source": [
        "print(\"Feature Importances:\")\n",
        "for feature, importance in zip(iris.feature_names, clf.feature_importances_):\n",
        "    print(f\"{feature}: {importance:.4f}\")"
      ],
      "metadata": {
        "colab": {
          "base_uri": "https://localhost:8080/"
        },
        "id": "o0UbbSopZSkh",
        "outputId": "4a84e213-4857-4a6c-c1e0-ed5dac173575"
      },
      "execution_count": 11,
      "outputs": [
        {
          "output_type": "stream",
          "name": "stdout",
          "text": [
            "Feature Importances:\n",
            "sepal length (cm): 0.0000\n",
            "sepal width (cm): 0.0191\n",
            "petal length (cm): 0.8933\n",
            "petal width (cm): 0.0876\n"
          ]
        }
      ]
    },
    {
      "cell_type": "markdown",
      "source": [
        "26.Write a Python program to train a Decision Tree Regressor with max_depth=5 and compare its performance with an unrestricted tree."
      ],
      "metadata": {
        "id": "kAdaponkZUnQ"
      }
    },
    {
      "cell_type": "code",
      "source": [
        "# Train a Decision Tree Regressor with max_depth=5\n",
        "regressor_limited = DecisionTreeRegressor(max_depth=5, random_state=42)\n",
        "regressor_limited.fit(X_train, y_train)\n",
        "\n",
        "# Make predictions with the limited regressor\n",
        "y_pred_limited_regressor = regressor_limited.predict(X_test)\n",
        "\n",
        "# Calculate MSE for the limited regressor\n",
        "mse_limited_regressor = mean_squared_error(y_test, y_pred_limited_regressor)\n",
        "print(f\"Mean Squared Error (MSE) with max_depth=5: {mse_limited_regressor:.2f}\")\n",
        "\n",
        "# Train an unrestricted Decision Tree Regressor (default behavior)\n",
        "regressor_full = DecisionTreeRegressor(random_state=42)\n",
        "regressor_full.fit(X_train, y_train)\n",
        "\n",
        "# Make predictions with the full regressor\n",
        "y_pred_full_regressor = regressor_full.predict(X_test)\n",
        "\n",
        "# Calculate MSE for the full regressor\n",
        "mse_full_regressor = mean_squared_error(y_test, y_pred_full_regressor)\n",
        "print(f\"Mean Squared Error (MSE) of unrestricted tree: {mse_full_regressor:.2f}\")"
      ],
      "metadata": {
        "colab": {
          "base_uri": "https://localhost:8080/"
        },
        "id": "F5WM98VDZmD9",
        "outputId": "c1cda637-8158-4c00-9d77-440fa226b626"
      },
      "execution_count": 12,
      "outputs": [
        {
          "output_type": "stream",
          "name": "stdout",
          "text": [
            "Mean Squared Error (MSE) with max_depth=5: 0.00\n",
            "Mean Squared Error (MSE) of unrestricted tree: 0.00\n"
          ]
        }
      ]
    },
    {
      "cell_type": "markdown",
      "source": [
        "27.Write a Python program to train a Decision Tree Classifier, apply Cost Complexity Pruning (CCP), and visualize its effect on accuracy."
      ],
      "metadata": {
        "id": "Ov3HB7MmZprr"
      }
    },
    {
      "cell_type": "code",
      "source": [
        "from sklearn.model_selection import cross_val_score\n",
        "import matplotlib.pyplot as plt\n",
        "\n",
        "# Train a Decision Tree Classifier\n",
        "clf = DecisionTreeClassifier(random_state=42)\n",
        "clf.fit(X_train, y_train)\n",
        "\n",
        "# Calculate the cost complexity pruning path\n",
        "path = clf.cost_complexity_pruning_path(X_train, y_train)\n",
        "ccp_alphas, impurities = path.ccp_alphas, path.impurities\n",
        "\n",
        "# Train Decision Trees with different alpha values\n",
        "clfs = []\n",
        "for ccp_alpha in ccp_alphas:\n",
        "    clf = DecisionTreeClassifier(random_state=0, ccp_alpha=ccp_alpha)\n",
        "    clf.fit(X_train, y_train)\n",
        "    clfs.append(clf)\n",
        "\n",
        "# Evaluate the accuracy for each alpha value\n",
        "train_scores = [clf.score(X_train, y_train) for clf in clfs]\n",
        "test_scores = [clf.score(X_test, y_test) for clf in clfs]\n",
        "\n",
        "# Visualize the effect of alpha on accuracy\n",
        "plt.figure(figsize=(10, 6))\n",
        "plt.plot(ccp_alphas, train_scores, marker='o', label='train', drawstyle=\"steps-post\")\n",
        "plt.plot(ccp_alphas, test_scores, marker='o', label='test', drawstyle=\"steps-post\")\n",
        "plt.xlabel(\"alpha\")\n",
        "plt.ylabel(\"accuracy\")\n",
        "plt.title(\"Accuracy vs. alpha for training and testing sets\")\n",
        "plt.legend()\n",
        "plt.show()\n",
        "\n",
        "# Find the alpha that maximizes test accuracy\n",
        "optimal_alpha_index = test_scores.index(max(test_scores))\n",
        "optimal_alpha = ccp_alphas[optimal_alpha_index]\n",
        "\n",
        "print(f\"Optimal ccp_alpha: {optimal_alpha:.4f}\")\n",
        "print(f\"Maximum test accuracy with CCP: {max(test_scores):.2f}\")\n",
        "\n",
        "# Train a tree with the optimal alpha\n",
        "clf_pruned = DecisionTreeClassifier(random_state=0, ccp_alpha=optimal_alpha)\n",
        "clf_pruned.fit(X_train, y_train)\n",
        "\n",
        "# Evaluate the pruned tree\n",
        "accuracy_pruned = accuracy_score(y_test, clf_pruned.predict(X_test))\n",
        "print(f\"Accuracy of the pruned tree: {accuracy_pruned:.2f}\")"
      ],
      "metadata": {
        "colab": {
          "base_uri": "https://localhost:8080/",
          "height": 616
        },
        "id": "RuixUZspaMor",
        "outputId": "5e61847e-2e48-4bdc-fe2d-2ffdeb680304"
      },
      "execution_count": 13,
      "outputs": [
        {
          "output_type": "display_data",
          "data": {
            "text/plain": [
              "<Figure size 1000x600 with 1 Axes>"
            ],
            "image/png": "[encoded data removed]"
          },
          "metadata": {}
        },
        {
          "output_type": "stream",
          "name": "stdout",
          "text": [
            "Optimal ccp_alpha: 0.0000\n",
            "Maximum test accuracy with CCP: 1.00\n",
            "Accuracy of the pruned tree: 1.00\n"
          ]
        }
      ]
    },
    {
      "cell_type": "markdown",
      "source": [
        "28.Write a Python program to train a Decision Tree Classifier and evaluate its performance using Precision, Recall, and F1-Score."
      ],
      "metadata": {
        "id": "NQX3N6nPaWij"
      }
    },
    {
      "cell_type": "code",
      "source": [
        "from sklearn.metrics import precision_score, recall_score, f1_score\n",
        "\n",
        "# Calculate Precision\n",
        "precision = precision_score(y_test, y_pred, average='weighted')  # Use 'weighted' for multiclass\n",
        "print(f\"Precision: {precision:.2f}\")\n",
        "\n",
        "# Calculate Recall\n",
        "recall = recall_score(y_test, y_pred, average='weighted')  # Use 'weighted' for multiclass\n",
        "print(f\"Recall: {recall:.2f}\")\n",
        "\n",
        "# Calculate F1-Score\n",
        "f1 = f1_score(y_test, y_pred, average='weighted')  # Use 'weighted' for multiclass\n",
        "print(f\"F1-Score: {f1:.2f}\")"
      ],
      "metadata": {
        "colab": {
          "base_uri": "https://localhost:8080/"
        },
        "id": "9CreoQHcalOV",
        "outputId": "6fb08562-04b0-4fc7-e3ec-5a616dfea6d9"
      },
      "execution_count": 14,
      "outputs": [
        {
          "output_type": "stream",
          "name": "stdout",
          "text": [
            "Precision: 1.00\n",
            "Recall: 1.00\n",
            "F1-Score: 1.00\n"
          ]
        }
      ]
    },
    {
      "cell_type": "markdown",
      "source": [
        "29.Write a Python program to train a Decision Tree Classifier and visualize the confusion matrix using seaborn."
      ],
      "metadata": {
        "id": "24gwax8aap7L"
      }
    },
    {
      "cell_type": "code",
      "source": [
        "import seaborn as sns\n",
        "from sklearn.metrics import confusion_matrix\n",
        "\n",
        "# Calculate the confusion matrix\n",
        "cm = confusion_matrix(y_test, y_pred)\n",
        "\n",
        "# Visualize the confusion matrix using seaborn\n",
        "plt.figure(figsize=(8, 6))\n",
        "sns.heatmap(cm, annot=True, fmt='d', cmap='Blues', xticklabels=iris.target_names, yticklabels=iris.target_names)\n",
        "plt.xlabel('Predicted')\n",
        "plt.ylabel('Actual')\n",
        "plt.title('Confusion Matrix for Decision Tree Classifier')\n",
        "plt.show()"
      ],
      "metadata": {
        "colab": {
          "base_uri": "https://localhost:8080/",
          "height": 564
        },
        "id": "g-oWP_Pga2Ry",
        "outputId": "6deb0a87-bf9c-4e70-8616-6c772266e0fb"
      },
      "execution_count": 15,
      "outputs": [
        {
          "output_type": "display_data",
          "data": {
            "text/plain": [
              "<Figure size 800x600 with 2 Axes>"
            ],
            "image/png": "[encoded data removed]"
          },
          "metadata": {}
        }
      ]
    },
    {
      "cell_type": "markdown",
      "source": [
        "30.Write a Python program to train a Decision Tree Classifier and use GridSearchCV to find the optimal values for max_depth and min_samples_split."
      ],
      "metadata": {
        "id": "FSXiFqrHa8bH"
      }
    },
    {
      "cell_type": "code",
      "source": [
        "from sklearn.model_selection import GridSearchCV\n",
        "\n",
        "# Define the parameter grid\n",
        "param_grid = {\n",
        "    'max_depth': [None, 3, 5, 10],  # Explore different max_depth values\n",
        "    'min_samples_split': [2, 5, 10] # Explore different min_samples_split values\n",
        "}\n",
        "\n",
        "# Create a base Decision Tree Classifier\n",
        "dt = DecisionTreeClassifier(random_state=42)\n",
        "\n",
        "# Create GridSearchCV object\n",
        "grid_search = GridSearchCV(dt, param_grid, cv=5, scoring='accuracy')\n",
        "\n",
        "# Fit the grid search to the training data\n",
        "grid_search.fit(X_train, y_train)\n",
        "\n",
        "# Print the best parameters and the best score\n",
        "print(f\"Best parameters: {grid_search.best_params_}\")\n",
        "print(f\"Best cross-validation accuracy: {grid_search.best_score_:.2f}\")\n",
        "\n",
        "# Get the best model\n",
        "best_dt_model = grid_search.best_estimator_\n",
        "\n",
        "# Evaluate the best model on the test set\n",
        "test_accuracy = best_dt_model.score(X_test, y_test)\n",
        "print(f\"Test accuracy with best parameters: {test_accuracy:.2f}\")"
      ],
      "metadata": {
        "colab": {
          "base_uri": "https://localhost:8080/"
        },
        "id": "Z5KopliHbLnV",
        "outputId": "a025a75d-f58c-434d-e677-521692d9adee"
      },
      "execution_count": 17,
      "outputs": [
        {
          "output_type": "stream",
          "name": "stdout",
          "text": [
            "Best parameters: {'max_depth': None, 'min_samples_split': 10}\n",
            "Best cross-validation accuracy: 0.94\n",
            "Test accuracy with best parameters: 1.00\n"
          ]
        }
      ]
    }
  ]
}